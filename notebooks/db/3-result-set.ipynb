{
 "cells": [
  {
   "metadata": {},
   "cell_type": "code",
   "source": [
    "USE {\n",
    "    dependencies(\"org.mariadb.jdbc:mariadb-java-client:3.1.4\")\n",
    "}"
   ],
   "outputs": [],
   "execution_count": null
  },
  {
   "metadata": {},
   "cell_type": "code",
   "source": "%use dataframe, kandy",
   "outputs": [],
   "execution_count": null
  },
  {
   "metadata": {},
   "cell_type": "code",
   "source": [
    "import org.jetbrains.kotlinx.dataframe.DataFrame\n",
    "import org.jetbrains.kotlinx.dataframe.api.describe\n",
    "import org.jetbrains.kotlinx.dataframe.api.print\n",
    "import org.jetbrains.kotlinx.dataframe.io.DatabaseConfiguration\n",
    "import org.jetbrains.kotlinx.dataframe.io.getSchemaForSqlTable\n",
    "import org.jetbrains.kotlinx.dataframe.io.readSqlTable\n",
    "import org.jetbrains.kotlinx.dataframe.io.getSchemaForAllSqlTables\n",
    "import org.jetbrains.kotlinx.dataframe.schema.DataFrameSchema\n",
    "import java.sql.DriverManager\n",
    "import java.util.*\n"
   ],
   "outputs": [],
   "execution_count": null
  },
  {
   "metadata": {},
   "cell_type": "code",
   "source": [
    "val URL = \"jdbc:mariadb://localhost:3307/imdb\"\n",
    "val USER_NAME = \"root\"\n",
    "val PASSWORD = \"pass\"\n",
    "\n",
    "val dbConfig = DatabaseConfiguration(URL, USER_NAME, PASSWORD)"
   ],
   "outputs": [],
   "execution_count": null
  },
  {
   "cell_type": "markdown",
   "source": "# Extracting data about Tarantino films from the ResultSet ",
   "metadata": {
    "collapsed": false
   }
  },
  {
   "metadata": {
    "ExecuteTime": {
     "end_time": "2024-04-14T17:00:41.248449700Z",
     "start_time": "2024-04-14T17:00:40.970402Z"
    }
   },
   "cell_type": "code",
   "source": [
    "import javax.imageio.ImageIO\n",
    "val image = ImageIO.read(File(\"../../src/main/resources/images/quentin-tarantino-movies-posters.png\"))\n",
    "DISPLAY(image)"
   ],
   "outputs": [
    {
     "name": "stderr",
     "output_type": "stream",
     "text": [
      "Line_1.jupyter.kts (2:26 - 30) Unresolved reference: File"
     ]
    }
   ],
   "execution_count": 1
  },
  {
   "cell_type": "code",
   "source": [
    "import java.util.Properties\n",
    "\n",
    "val props = Properties()\n",
    "props.setProperty(\"user\", USER_NAME)\n",
    "props.setProperty(\"password\", PASSWORD)\n",
    "\n",
    "val TARANTINO_FILMS_SQL_QUERY = \"\"\"\n",
    "    SELECT name, year, rank,\n",
    "    GROUP_CONCAT (genre) as \"genres\"\n",
    "    FROM movies JOIN movies_directors ON movie_id = movies.id\n",
    "    JOIN directors ON directors.id=director_id LEFT JOIN movies_genres ON movies.id = movies_genres.movie_id\n",
    "    WHERE directors.first_name = \"Quentin\" AND directors.last_name = \"Tarantino\"\n",
    "    GROUP BY name, year, rank\n",
    "    ORDER BY year\n",
    "    \"\"\"\n",
    "\n",
    "var dfTarantinoFilmsRs: DataFrame<*>\n",
    "\n",
    "DriverManager.getConnection(URL, props).use { connection ->\n",
    "        connection.createStatement().use { st ->\n",
    "            st.executeQuery(TARANTINO_FILMS_SQL_QUERY).use { rs ->\n",
    "               val dfTarantinoFilmsSchema = DataFrame.getSchemaForResultSet(rs, connection)\n",
    "               dfTarantinoFilmsSchema.print()\n",
    "\n",
    "               dfTarantinoFilmsRs = DataFrame.readResultSet(rs, connection)\n",
    "               dfTarantinoFilmsRs\n",
    "            } \n",
    "        } \n",
    "}"
   ],
   "metadata": {
    "collapsed": false
   },
   "outputs": [],
   "execution_count": null
  },
  {
   "cell_type": "code",
   "source": [
    "val df = dfTarantinoFilmsRs\n",
    "    .fillNA { year }\n",
    "    .with { 0 }\n",
    "    .convert { year }.toInt()\n"
   ],
   "metadata": {
    "collapsed": false
   },
   "outputs": [],
   "execution_count": null
  },
  {
   "cell_type": "code",
   "source": [
    "df.filter { year > 2000 }"
   ],
   "metadata": {
    "collapsed": false
   },
   "outputs": [],
   "execution_count": null
  },
  {
   "metadata": {},
   "cell_type": "code",
   "source": "",
   "outputs": [],
   "execution_count": null
  }
 ],
 "metadata": {
  "kernelspec": {
   "display_name": "Kotlin",
   "language": "kotlin",
   "name": "kotlin"
  },
  "language_info": {
   "name": "kotlin",
   "version": "1.8.20",
   "mimetype": "text/x-kotlin",
   "file_extension": ".kt",
   "pygments_lexer": "kotlin",
   "codemirror_mode": "text/x-kotlin",
   "nbconvert_exporter": ""
  },
  "ktnbPluginMetadata": {
   "projectDependencies": true
  }
 },
 "nbformat": 4,
 "nbformat_minor": 0
}
